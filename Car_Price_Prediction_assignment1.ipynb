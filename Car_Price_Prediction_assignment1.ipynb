{
 "cells": [
  {
   "cell_type": "code",
   "execution_count": 1,
   "metadata": {},
   "outputs": [],
   "source": [
    "import pandas as pd\n",
    "import numpy as np"
   ]
  },
  {
   "cell_type": "code",
   "execution_count": 2,
   "metadata": {},
   "outputs": [
    {
     "name": "stderr",
     "output_type": "stream",
     "text": [
      "C:\\Users\\DELL\\anaconda3\\lib\\site-packages\\tensorflow\\python\\framework\\dtypes.py:516: FutureWarning: Passing (type, 1) or '1type' as a synonym of type is deprecated; in a future version of numpy, it will be understood as (type, (1,)) / '(1,)type'.\n",
      "  _np_qint8 = np.dtype([(\"qint8\", np.int8, 1)])\n",
      "C:\\Users\\DELL\\anaconda3\\lib\\site-packages\\tensorflow\\python\\framework\\dtypes.py:517: FutureWarning: Passing (type, 1) or '1type' as a synonym of type is deprecated; in a future version of numpy, it will be understood as (type, (1,)) / '(1,)type'.\n",
      "  _np_quint8 = np.dtype([(\"quint8\", np.uint8, 1)])\n",
      "C:\\Users\\DELL\\anaconda3\\lib\\site-packages\\tensorflow\\python\\framework\\dtypes.py:518: FutureWarning: Passing (type, 1) or '1type' as a synonym of type is deprecated; in a future version of numpy, it will be understood as (type, (1,)) / '(1,)type'.\n",
      "  _np_qint16 = np.dtype([(\"qint16\", np.int16, 1)])\n",
      "C:\\Users\\DELL\\anaconda3\\lib\\site-packages\\tensorflow\\python\\framework\\dtypes.py:519: FutureWarning: Passing (type, 1) or '1type' as a synonym of type is deprecated; in a future version of numpy, it will be understood as (type, (1,)) / '(1,)type'.\n",
      "  _np_quint16 = np.dtype([(\"quint16\", np.uint16, 1)])\n",
      "C:\\Users\\DELL\\anaconda3\\lib\\site-packages\\tensorflow\\python\\framework\\dtypes.py:520: FutureWarning: Passing (type, 1) or '1type' as a synonym of type is deprecated; in a future version of numpy, it will be understood as (type, (1,)) / '(1,)type'.\n",
      "  _np_qint32 = np.dtype([(\"qint32\", np.int32, 1)])\n",
      "C:\\Users\\DELL\\anaconda3\\lib\\site-packages\\tensorflow\\python\\framework\\dtypes.py:525: FutureWarning: Passing (type, 1) or '1type' as a synonym of type is deprecated; in a future version of numpy, it will be understood as (type, (1,)) / '(1,)type'.\n",
      "  np_resource = np.dtype([(\"resource\", np.ubyte, 1)])\n",
      "C:\\Users\\DELL\\anaconda3\\lib\\site-packages\\tensorboard\\compat\\tensorflow_stub\\dtypes.py:541: FutureWarning: Passing (type, 1) or '1type' as a synonym of type is deprecated; in a future version of numpy, it will be understood as (type, (1,)) / '(1,)type'.\n",
      "  _np_qint8 = np.dtype([(\"qint8\", np.int8, 1)])\n",
      "C:\\Users\\DELL\\anaconda3\\lib\\site-packages\\tensorboard\\compat\\tensorflow_stub\\dtypes.py:542: FutureWarning: Passing (type, 1) or '1type' as a synonym of type is deprecated; in a future version of numpy, it will be understood as (type, (1,)) / '(1,)type'.\n",
      "  _np_quint8 = np.dtype([(\"quint8\", np.uint8, 1)])\n",
      "C:\\Users\\DELL\\anaconda3\\lib\\site-packages\\tensorboard\\compat\\tensorflow_stub\\dtypes.py:543: FutureWarning: Passing (type, 1) or '1type' as a synonym of type is deprecated; in a future version of numpy, it will be understood as (type, (1,)) / '(1,)type'.\n",
      "  _np_qint16 = np.dtype([(\"qint16\", np.int16, 1)])\n",
      "C:\\Users\\DELL\\anaconda3\\lib\\site-packages\\tensorboard\\compat\\tensorflow_stub\\dtypes.py:544: FutureWarning: Passing (type, 1) or '1type' as a synonym of type is deprecated; in a future version of numpy, it will be understood as (type, (1,)) / '(1,)type'.\n",
      "  _np_quint16 = np.dtype([(\"quint16\", np.uint16, 1)])\n",
      "C:\\Users\\DELL\\anaconda3\\lib\\site-packages\\tensorboard\\compat\\tensorflow_stub\\dtypes.py:545: FutureWarning: Passing (type, 1) or '1type' as a synonym of type is deprecated; in a future version of numpy, it will be understood as (type, (1,)) / '(1,)type'.\n",
      "  _np_qint32 = np.dtype([(\"qint32\", np.int32, 1)])\n",
      "C:\\Users\\DELL\\anaconda3\\lib\\site-packages\\tensorboard\\compat\\tensorflow_stub\\dtypes.py:550: FutureWarning: Passing (type, 1) or '1type' as a synonym of type is deprecated; in a future version of numpy, it will be understood as (type, (1,)) / '(1,)type'.\n",
      "  np_resource = np.dtype([(\"resource\", np.ubyte, 1)])\n"
     ]
    }
   ],
   "source": [
    "import tensorflow as tf"
   ]
  },
  {
   "cell_type": "code",
   "execution_count": 104,
   "metadata": {
    "scrolled": true
   },
   "outputs": [],
   "source": [
    "car_features = pd.read_csv(\"CarPrice_Assignment.csv\")"
   ]
  },
  {
   "cell_type": "code",
   "execution_count": 105,
   "metadata": {},
   "outputs": [
    {
     "data": {
      "text/plain": [
       "Index(['car_ID', 'symboling', 'CarName', 'fueltype', 'aspiration',\n",
       "       'doornumber', 'carbody', 'drivewheel', 'enginelocation', 'wheelbase',\n",
       "       'carlength', 'carwidth', 'carheight', 'curbweight', 'enginetype',\n",
       "       'cylindernumber', 'enginesize', 'fuelsystem', 'boreratio', 'stroke',\n",
       "       'compressionratio', 'horsepower', 'peakrpm', 'citympg', 'highwaympg',\n",
       "       'price'],\n",
       "      dtype='object')"
      ]
     },
     "execution_count": 105,
     "metadata": {},
     "output_type": "execute_result"
    }
   ],
   "source": [
    "car_features.columns"
   ]
  },
  {
   "cell_type": "code",
   "execution_count": 106,
   "metadata": {},
   "outputs": [
    {
     "data": {
      "text/plain": [
       "car_ID                int64\n",
       "symboling             int64\n",
       "CarName              object\n",
       "fueltype             object\n",
       "aspiration           object\n",
       "doornumber           object\n",
       "carbody              object\n",
       "drivewheel           object\n",
       "enginelocation       object\n",
       "wheelbase           float64\n",
       "carlength           float64\n",
       "carwidth            float64\n",
       "carheight           float64\n",
       "curbweight            int64\n",
       "enginetype           object\n",
       "cylindernumber       object\n",
       "enginesize            int64\n",
       "fuelsystem           object\n",
       "boreratio           float64\n",
       "stroke              float64\n",
       "compressionratio    float64\n",
       "horsepower            int64\n",
       "peakrpm               int64\n",
       "citympg               int64\n",
       "highwaympg            int64\n",
       "price               float64\n",
       "dtype: object"
      ]
     },
     "execution_count": 106,
     "metadata": {},
     "output_type": "execute_result"
    }
   ],
   "source": [
    "car_features.dtypes"
   ]
  },
  {
   "cell_type": "code",
   "execution_count": 107,
   "metadata": {},
   "outputs": [],
   "source": [
    "car_features.drop(columns=('car_ID'), inplace=True)"
   ]
  },
  {
   "cell_type": "code",
   "execution_count": 108,
   "metadata": {},
   "outputs": [],
   "source": [
    "car_features.iloc[3,2] = 'audi 100ls'"
   ]
  },
  {
   "cell_type": "code",
   "execution_count": 109,
   "metadata": {},
   "outputs": [],
   "source": [
    "car = pd.get_dummies(car_features,columns=['CarName', 'fueltype', 'aspiration',\n",
    "       'doornumber', 'carbody', 'drivewheel', 'enginelocation', 'fuelsystem','cylindernumber','enginetype' ])"
   ]
  },
  {
   "cell_type": "code",
   "execution_count": 110,
   "metadata": {},
   "outputs": [],
   "source": [
    "# pd.options.display.max_seq_items = 2000"
   ]
  },
  {
   "cell_type": "code",
   "execution_count": 111,
   "metadata": {},
   "outputs": [
    {
     "data": {
      "text/plain": [
       "Index(['symboling', 'wheelbase', 'carlength', 'carwidth', 'carheight',\n",
       "       'curbweight', 'enginesize', 'boreratio', 'stroke', 'compressionratio',\n",
       "       ...\n",
       "       'cylindernumber_three', 'cylindernumber_twelve', 'cylindernumber_two',\n",
       "       'enginetype_dohc', 'enginetype_dohcv', 'enginetype_l', 'enginetype_ohc',\n",
       "       'enginetype_ohcf', 'enginetype_ohcv', 'enginetype_rotor'],\n",
       "      dtype='object', length=201)"
      ]
     },
     "execution_count": 111,
     "metadata": {},
     "output_type": "execute_result"
    }
   ],
   "source": [
    "car.columns"
   ]
  },
  {
   "cell_type": "code",
   "execution_count": null,
   "metadata": {},
   "outputs": [],
   "source": []
  },
  {
   "cell_type": "code",
   "execution_count": 112,
   "metadata": {},
   "outputs": [],
   "source": [
    "train_data = car.sample(frac=0.5, random_state=0)"
   ]
  },
  {
   "cell_type": "code",
   "execution_count": 113,
   "metadata": {},
   "outputs": [],
   "source": [
    "car = car.drop(train_data.index)"
   ]
  },
  {
   "cell_type": "code",
   "execution_count": 114,
   "metadata": {},
   "outputs": [],
   "source": [
    "x_train= train_data.drop(columns=['price'])"
   ]
  },
  {
   "cell_type": "code",
   "execution_count": 115,
   "metadata": {
    "scrolled": true
   },
   "outputs": [],
   "source": [
    "y_train = train_data['price']"
   ]
  },
  {
   "cell_type": "code",
   "execution_count": 116,
   "metadata": {},
   "outputs": [],
   "source": [
    "val_data = car.sample(frac=0.4, random_state=0)"
   ]
  },
  {
   "cell_type": "code",
   "execution_count": 117,
   "metadata": {},
   "outputs": [],
   "source": [
    "test = car.drop(val_data.index)"
   ]
  },
  {
   "cell_type": "code",
   "execution_count": 118,
   "metadata": {},
   "outputs": [],
   "source": [
    "y_val = val_data['price']"
   ]
  },
  {
   "cell_type": "code",
   "execution_count": 119,
   "metadata": {},
   "outputs": [],
   "source": [
    "x_val= val_data.drop(columns=['price'])"
   ]
  },
  {
   "cell_type": "code",
   "execution_count": 120,
   "metadata": {},
   "outputs": [],
   "source": [
    "y_test = test['price']"
   ]
  },
  {
   "cell_type": "code",
   "execution_count": 121,
   "metadata": {},
   "outputs": [],
   "source": [
    "x_test= test.drop(columns=['price'])"
   ]
  },
  {
   "cell_type": "code",
   "execution_count": 122,
   "metadata": {},
   "outputs": [],
   "source": [
    "mean = x_train.iloc[:,0:13].mean(axis=0)\n",
    "x_train.iloc[:,0:13] -= mean\n",
    "std = x_train.iloc[:,0:13].std(axis=0)\n",
    "x_train.iloc[:,0:13] /= std\n",
    "x_test.iloc[:,0:13] /= std\n",
    "x_val.iloc[:,0:13] /=std"
   ]
  },
  {
   "cell_type": "code",
   "execution_count": 123,
   "metadata": {},
   "outputs": [],
   "source": [
    "mean_l = y_train.mean()\n",
    "y_train -= mean_l\n",
    "std_l = y_train.std()\n",
    "y_train /= std_l\n",
    "y_test /= std_l\n",
    "y_val /=std_l"
   ]
  },
  {
   "cell_type": "code",
   "execution_count": 124,
   "metadata": {},
   "outputs": [
    {
     "data": {
      "text/plain": [
       "4.205210676974326"
      ]
     },
     "execution_count": 124,
     "metadata": {},
     "output_type": "execute_result"
    }
   ],
   "source": [
    "y_train.max()"
   ]
  },
  {
   "cell_type": "code",
   "execution_count": null,
   "metadata": {},
   "outputs": [],
   "source": []
  },
  {
   "cell_type": "code",
   "execution_count": 128,
   "metadata": {},
   "outputs": [],
   "source": [
    "from keras import models\n",
    "from keras import layers\n",
    "model = models.Sequential([ \n",
    "                          layers.Dense(10,activation='tanh', input_shape=(x_train.shape[1],)),\n",
    "                          layers.Dense(8,activation='relu'),\n",
    "                          layers.Dense(6,activation='relu'),\n",
    "                          layers.Dense(1)\n",
    "])\n",
    "model.compile(optimizer='rmsprop',\n",
    "              loss='mse',\n",
    "              metrics=['mae'])\n",
    "    \n",
    "\n",
    "    "
   ]
  },
  {
   "cell_type": "code",
   "execution_count": 129,
   "metadata": {},
   "outputs": [
    {
     "name": "stdout",
     "output_type": "stream",
     "text": [
      "Train on 102 samples, validate on 41 samples\n",
      "Epoch 1/100\n",
      "102/102 [==============================] - 1s 7ms/step - loss: 1.1896 - mae: 0.9077 - val_loss: 2.2814 - val_mae: 1.0110\n",
      "Epoch 2/100\n",
      "102/102 [==============================] - 0s 373us/step - loss: 0.9964 - mae: 0.7904 - val_loss: 2.5471 - val_mae: 1.1169\n",
      "Epoch 3/100\n",
      "102/102 [==============================] - 0s 402us/step - loss: 0.9153 - mae: 0.7446 - val_loss: 2.6645 - val_mae: 1.1738\n",
      "Epoch 4/100\n",
      "102/102 [==============================] - 0s 402us/step - loss: 0.8516 - mae: 0.7066 - val_loss: 2.5119 - val_mae: 1.1549\n",
      "Epoch 5/100\n",
      "102/102 [==============================] - 0s 422us/step - loss: 0.8049 - mae: 0.6945 - val_loss: 2.5165 - val_mae: 1.1717\n",
      "Epoch 6/100\n",
      "102/102 [==============================] - 0s 412us/step - loss: 0.7767 - mae: 0.6716 - val_loss: 2.3803 - val_mae: 1.1463\n",
      "Epoch 7/100\n",
      "102/102 [==============================] - 0s 412us/step - loss: 0.7399 - mae: 0.6561 - val_loss: 2.3306 - val_mae: 1.1473\n",
      "Epoch 8/100\n",
      "102/102 [==============================] - 0s 324us/step - loss: 0.7089 - mae: 0.6327 - val_loss: 2.0919 - val_mae: 1.0580\n",
      "Epoch 9/100\n",
      "102/102 [==============================] - 0s 363us/step - loss: 0.6739 - mae: 0.6208 - val_loss: 2.0193 - val_mae: 1.0264\n",
      "Epoch 10/100\n",
      "102/102 [==============================] - 0s 314us/step - loss: 0.6485 - mae: 0.6050 - val_loss: 2.0582 - val_mae: 1.0507\n",
      "Epoch 11/100\n",
      "102/102 [==============================] - 0s 314us/step - loss: 0.6312 - mae: 0.5850 - val_loss: 1.9127 - val_mae: 0.9748\n",
      "Epoch 12/100\n",
      "102/102 [==============================] - 0s 324us/step - loss: 0.6121 - mae: 0.5761 - val_loss: 1.8310 - val_mae: 0.9309\n",
      "Epoch 13/100\n",
      "102/102 [==============================] - 0s 334us/step - loss: 0.5841 - mae: 0.5593 - val_loss: 1.7039 - val_mae: 0.8644\n",
      "Epoch 14/100\n",
      "102/102 [==============================] - 0s 334us/step - loss: 0.5676 - mae: 0.5522 - val_loss: 1.5438 - val_mae: 0.7930\n",
      "Epoch 15/100\n",
      "102/102 [==============================] - 0s 304us/step - loss: 0.5413 - mae: 0.5398 - val_loss: 1.4536 - val_mae: 0.7656\n",
      "Epoch 16/100\n",
      "102/102 [==============================] - 0s 343us/step - loss: 0.5221 - mae: 0.5232 - val_loss: 1.2163 - val_mae: 0.7032\n",
      "Epoch 17/100\n",
      "102/102 [==============================] - 0s 294us/step - loss: 0.4967 - mae: 0.5139 - val_loss: 1.0012 - val_mae: 0.6672\n",
      "Epoch 18/100\n",
      "102/102 [==============================] - 0s 294us/step - loss: 0.4735 - mae: 0.5060 - val_loss: 0.8927 - val_mae: 0.6485\n",
      "Epoch 19/100\n",
      "102/102 [==============================] - 0s 334us/step - loss: 0.4504 - mae: 0.4795 - val_loss: 0.8868 - val_mae: 0.7272\n",
      "Epoch 20/100\n",
      "102/102 [==============================] - 0s 324us/step - loss: 0.4233 - mae: 0.4727 - val_loss: 0.9952 - val_mae: 0.8304\n",
      "Epoch 21/100\n",
      "102/102 [==============================] - 0s 334us/step - loss: 0.3971 - mae: 0.4639 - val_loss: 1.0888 - val_mae: 0.8922\n",
      "Epoch 22/100\n",
      "102/102 [==============================] - 0s 245us/step - loss: 0.3745 - mae: 0.4447 - val_loss: 1.2482 - val_mae: 0.9831\n",
      "Epoch 23/100\n",
      "102/102 [==============================] - 0s 245us/step - loss: 0.3370 - mae: 0.4257 - val_loss: 1.5259 - val_mae: 1.1151\n",
      "Epoch 24/100\n",
      "102/102 [==============================] - 0s 255us/step - loss: 0.3219 - mae: 0.4418 - val_loss: 1.5334 - val_mae: 1.1201\n",
      "Epoch 25/100\n",
      "102/102 [==============================] - 0s 304us/step - loss: 0.2854 - mae: 0.4061 - val_loss: 1.4930 - val_mae: 1.1053\n",
      "Epoch 26/100\n",
      "102/102 [==============================] - 0s 275us/step - loss: 0.2773 - mae: 0.3914 - val_loss: 1.6170 - val_mae: 1.1575\n",
      "Epoch 27/100\n",
      "102/102 [==============================] - 0s 235us/step - loss: 0.2530 - mae: 0.3738 - val_loss: 1.7478 - val_mae: 1.2116\n",
      "Epoch 28/100\n",
      "102/102 [==============================] - 0s 265us/step - loss: 0.2404 - mae: 0.3790 - val_loss: 1.4320 - val_mae: 1.0852\n",
      "Epoch 29/100\n",
      "102/102 [==============================] - 0s 275us/step - loss: 0.2226 - mae: 0.3372 - val_loss: 1.7155 - val_mae: 1.2050\n",
      "Epoch 30/100\n",
      "102/102 [==============================] - 0s 275us/step - loss: 0.2052 - mae: 0.3368 - val_loss: 1.6967 - val_mae: 1.1984\n",
      "Epoch 31/100\n",
      "102/102 [==============================] - 0s 275us/step - loss: 0.1903 - mae: 0.3294 - val_loss: 1.5890 - val_mae: 1.1590\n",
      "Epoch 32/100\n",
      "102/102 [==============================] - 0s 285us/step - loss: 0.1708 - mae: 0.3004 - val_loss: 1.6758 - val_mae: 1.1953\n",
      "Epoch 33/100\n",
      "102/102 [==============================] - 0s 255us/step - loss: 0.1621 - mae: 0.2901 - val_loss: 1.9063 - val_mae: 1.2792\n",
      "Epoch 34/100\n",
      "102/102 [==============================] - 0s 245us/step - loss: 0.1463 - mae: 0.2790 - val_loss: 1.6438 - val_mae: 1.1822\n",
      "Epoch 35/100\n",
      "102/102 [==============================] - 0s 285us/step - loss: 0.1380 - mae: 0.2603 - val_loss: 1.6244 - val_mae: 1.1721\n",
      "Epoch 36/100\n",
      "102/102 [==============================] - 0s 275us/step - loss: 0.1279 - mae: 0.2522 - val_loss: 1.6656 - val_mae: 1.1867\n",
      "Epoch 37/100\n",
      "102/102 [==============================] - 0s 304us/step - loss: 0.1255 - mae: 0.2459 - val_loss: 1.9824 - val_mae: 1.2966\n",
      "Epoch 38/100\n",
      "102/102 [==============================] - 0s 265us/step - loss: 0.1152 - mae: 0.2460 - val_loss: 1.7132 - val_mae: 1.2002\n",
      "Epoch 39/100\n",
      "102/102 [==============================] - 0s 196us/step - loss: 0.1072 - mae: 0.2298 - val_loss: 1.5441 - val_mae: 1.1356\n",
      "Epoch 40/100\n",
      "102/102 [==============================] - 0s 226us/step - loss: 0.1014 - mae: 0.2208 - val_loss: 1.7703 - val_mae: 1.2217\n",
      "Epoch 41/100\n",
      "102/102 [==============================] - 0s 235us/step - loss: 0.0953 - mae: 0.2197 - val_loss: 1.8502 - val_mae: 1.2524\n",
      "Epoch 42/100\n",
      "102/102 [==============================] - 0s 216us/step - loss: 0.0922 - mae: 0.2211 - val_loss: 1.6112 - val_mae: 1.1667\n",
      "Epoch 43/100\n",
      "102/102 [==============================] - 0s 216us/step - loss: 0.0826 - mae: 0.1989 - val_loss: 1.3479 - val_mae: 1.0555\n",
      "Epoch 44/100\n",
      "102/102 [==============================] - 0s 226us/step - loss: 0.0796 - mae: 0.1933 - val_loss: 1.7056 - val_mae: 1.2038\n",
      "Epoch 45/100\n",
      "102/102 [==============================] - 0s 235us/step - loss: 0.0769 - mae: 0.2022 - val_loss: 1.4386 - val_mae: 1.0993\n",
      "Epoch 46/100\n",
      "102/102 [==============================] - 0s 216us/step - loss: 0.0710 - mae: 0.1890 - val_loss: 1.4204 - val_mae: 1.0951\n",
      "Epoch 47/100\n",
      "102/102 [==============================] - 0s 235us/step - loss: 0.0659 - mae: 0.1865 - val_loss: 1.2305 - val_mae: 1.0123\n",
      "Epoch 48/100\n",
      "102/102 [==============================] - 0s 216us/step - loss: 0.0619 - mae: 0.1750 - val_loss: 1.4898 - val_mae: 1.1293\n",
      "Epoch 49/100\n",
      "102/102 [==============================] - 0s 255us/step - loss: 0.0591 - mae: 0.1736 - val_loss: 1.7355 - val_mae: 1.2306\n",
      "Epoch 50/100\n",
      "102/102 [==============================] - 0s 196us/step - loss: 0.0681 - mae: 0.1871 - val_loss: 1.4587 - val_mae: 1.1234\n",
      "Epoch 51/100\n",
      "102/102 [==============================] - 0s 186us/step - loss: 0.0573 - mae: 0.1704 - val_loss: 1.2405 - val_mae: 1.0254\n",
      "Epoch 52/100\n",
      "102/102 [==============================] - 0s 216us/step - loss: 0.0497 - mae: 0.1605 - val_loss: 1.2793 - val_mae: 1.0445\n",
      "Epoch 53/100\n",
      "102/102 [==============================] - 0s 235us/step - loss: 0.0505 - mae: 0.1590 - val_loss: 1.0500 - val_mae: 0.9308\n",
      "Epoch 54/100\n",
      "102/102 [==============================] - 0s 186us/step - loss: 0.0513 - mae: 0.1566 - val_loss: 1.2438 - val_mae: 1.0297\n",
      "Epoch 55/100\n",
      "102/102 [==============================] - 0s 255us/step - loss: 0.0436 - mae: 0.1462 - val_loss: 1.2009 - val_mae: 1.0099\n",
      "Epoch 56/100\n",
      "102/102 [==============================] - 0s 196us/step - loss: 0.0414 - mae: 0.1403 - val_loss: 1.2677 - val_mae: 1.0427\n",
      "Epoch 57/100\n",
      "102/102 [==============================] - 0s 216us/step - loss: 0.0441 - mae: 0.1554 - val_loss: 1.0231 - val_mae: 0.9232\n",
      "Epoch 58/100\n",
      "102/102 [==============================] - 0s 235us/step - loss: 0.0451 - mae: 0.1489 - val_loss: 1.0277 - val_mae: 0.9289\n",
      "Epoch 59/100\n",
      "102/102 [==============================] - 0s 226us/step - loss: 0.0373 - mae: 0.1363 - val_loss: 0.9778 - val_mae: 0.9009\n",
      "Epoch 60/100\n",
      "102/102 [==============================] - 0s 186us/step - loss: 0.0367 - mae: 0.1322 - val_loss: 0.9564 - val_mae: 0.8910\n"
     ]
    },
    {
     "name": "stdout",
     "output_type": "stream",
     "text": [
      "Epoch 61/100\n",
      "102/102 [==============================] - 0s 196us/step - loss: 0.0375 - mae: 0.1311 - val_loss: 0.9748 - val_mae: 0.9023\n",
      "Epoch 62/100\n",
      "102/102 [==============================] - 0s 216us/step - loss: 0.0388 - mae: 0.1359 - val_loss: 1.1419 - val_mae: 0.9884\n",
      "Epoch 63/100\n",
      "102/102 [==============================] - 0s 177us/step - loss: 0.0329 - mae: 0.1320 - val_loss: 1.1028 - val_mae: 0.9707\n",
      "Epoch 64/100\n",
      "102/102 [==============================] - 0s 186us/step - loss: 0.0372 - mae: 0.1421 - val_loss: 1.0239 - val_mae: 0.9342\n",
      "Epoch 65/100\n",
      "102/102 [==============================] - 0s 226us/step - loss: 0.0324 - mae: 0.1301 - val_loss: 0.9557 - val_mae: 0.8969\n",
      "Epoch 66/100\n",
      "102/102 [==============================] - 0s 216us/step - loss: 0.0290 - mae: 0.1195 - val_loss: 0.8831 - val_mae: 0.8543\n",
      "Epoch 67/100\n",
      "102/102 [==============================] - 0s 186us/step - loss: 0.0270 - mae: 0.1133 - val_loss: 0.9344 - val_mae: 0.8849\n",
      "Epoch 68/100\n",
      "102/102 [==============================] - 0s 196us/step - loss: 0.0297 - mae: 0.1179 - val_loss: 0.9998 - val_mae: 0.9256\n",
      "Epoch 69/100\n",
      "102/102 [==============================] - 0s 186us/step - loss: 0.0255 - mae: 0.1169 - val_loss: 0.9488 - val_mae: 0.8945\n",
      "Epoch 70/100\n",
      "102/102 [==============================] - 0s 177us/step - loss: 0.0301 - mae: 0.1228 - val_loss: 0.9945 - val_mae: 0.9210\n",
      "Epoch 71/100\n",
      "102/102 [==============================] - 0s 186us/step - loss: 0.0245 - mae: 0.1080 - val_loss: 0.8704 - val_mae: 0.8472\n",
      "Epoch 72/100\n",
      "102/102 [==============================] - 0s 167us/step - loss: 0.0256 - mae: 0.1145 - val_loss: 0.7471 - val_mae: 0.7491\n",
      "Epoch 73/100\n",
      "102/102 [==============================] - 0s 177us/step - loss: 0.0222 - mae: 0.1021 - val_loss: 0.7964 - val_mae: 0.7946\n",
      "Epoch 74/100\n",
      "102/102 [==============================] - 0s 196us/step - loss: 0.0210 - mae: 0.1010 - val_loss: 0.7957 - val_mae: 0.7961\n",
      "Epoch 75/100\n",
      "102/102 [==============================] - 0s 186us/step - loss: 0.0207 - mae: 0.1033 - val_loss: 0.8114 - val_mae: 0.8041\n",
      "Epoch 76/100\n",
      "102/102 [==============================] - 0s 186us/step - loss: 0.0188 - mae: 0.0906 - val_loss: 0.8137 - val_mae: 0.8088\n",
      "Epoch 77/100\n",
      "102/102 [==============================] - 0s 177us/step - loss: 0.0249 - mae: 0.1172 - val_loss: 0.8674 - val_mae: 0.8509\n",
      "Epoch 78/100\n",
      "102/102 [==============================] - 0s 177us/step - loss: 0.0178 - mae: 0.0906 - val_loss: 0.7475 - val_mae: 0.7516\n",
      "Epoch 79/100\n",
      "102/102 [==============================] - 0s 177us/step - loss: 0.0225 - mae: 0.0984 - val_loss: 0.7656 - val_mae: 0.7617\n",
      "Epoch 80/100\n",
      "102/102 [==============================] - 0s 186us/step - loss: 0.0188 - mae: 0.0962 - val_loss: 0.8493 - val_mae: 0.8322\n",
      "Epoch 81/100\n",
      "102/102 [==============================] - 0s 186us/step - loss: 0.0163 - mae: 0.0958 - val_loss: 0.7447 - val_mae: 0.7469\n",
      "Epoch 82/100\n",
      "102/102 [==============================] - 0s 186us/step - loss: 0.0195 - mae: 0.0994 - val_loss: 0.7192 - val_mae: 0.7301\n",
      "Epoch 83/100\n",
      "102/102 [==============================] - 0s 177us/step - loss: 0.0170 - mae: 0.0953 - val_loss: 0.9794 - val_mae: 0.9162\n",
      "Epoch 84/100\n",
      "102/102 [==============================] - 0s 177us/step - loss: 0.0231 - mae: 0.1117 - val_loss: 0.7369 - val_mae: 0.7480\n",
      "Epoch 85/100\n",
      "102/102 [==============================] - 0s 167us/step - loss: 0.0148 - mae: 0.0824 - val_loss: 0.8022 - val_mae: 0.7972\n",
      "Epoch 86/100\n",
      "102/102 [==============================] - 0s 157us/step - loss: 0.0130 - mae: 0.0811 - val_loss: 0.7824 - val_mae: 0.7887\n",
      "Epoch 87/100\n",
      "102/102 [==============================] - 0s 167us/step - loss: 0.0159 - mae: 0.0886 - val_loss: 0.8079 - val_mae: 0.8072\n",
      "Epoch 88/100\n",
      "102/102 [==============================] - 0s 167us/step - loss: 0.0132 - mae: 0.0823 - val_loss: 0.6966 - val_mae: 0.7182\n",
      "Epoch 89/100\n",
      "102/102 [==============================] - 0s 167us/step - loss: 0.0187 - mae: 0.1092 - val_loss: 0.8276 - val_mae: 0.8165\n",
      "Epoch 90/100\n",
      "102/102 [==============================] - 0s 177us/step - loss: 0.0192 - mae: 0.1039 - val_loss: 0.7156 - val_mae: 0.7278\n",
      "Epoch 91/100\n",
      "102/102 [==============================] - 0s 167us/step - loss: 0.0114 - mae: 0.0728 - val_loss: 0.8063 - val_mae: 0.8007\n",
      "Epoch 92/100\n",
      "102/102 [==============================] - 0s 157us/step - loss: 0.0142 - mae: 0.0893 - val_loss: 0.8446 - val_mae: 0.8353\n",
      "Epoch 93/100\n",
      "102/102 [==============================] - 0s 167us/step - loss: 0.0166 - mae: 0.0979 - val_loss: 0.7372 - val_mae: 0.7446\n",
      "Epoch 94/100\n",
      "102/102 [==============================] - 0s 147us/step - loss: 0.0100 - mae: 0.0721 - val_loss: 0.7983 - val_mae: 0.7973\n",
      "Epoch 95/100\n",
      "102/102 [==============================] - 0s 167us/step - loss: 0.0119 - mae: 0.0835 - val_loss: 0.7411 - val_mae: 0.7481\n",
      "Epoch 96/100\n",
      "102/102 [==============================] - 0s 147us/step - loss: 0.0103 - mae: 0.0741 - val_loss: 0.7176 - val_mae: 0.7344\n",
      "Epoch 97/100\n",
      "102/102 [==============================] - 0s 147us/step - loss: 0.0100 - mae: 0.0721 - val_loss: 0.7149 - val_mae: 0.7189\n",
      "Epoch 98/100\n",
      "102/102 [==============================] - 0s 157us/step - loss: 0.0150 - mae: 0.0965 - val_loss: 0.7190 - val_mae: 0.7383\n",
      "Epoch 99/100\n",
      "102/102 [==============================] - 0s 177us/step - loss: 0.0107 - mae: 0.0700 - val_loss: 0.7371 - val_mae: 0.7440\n",
      "Epoch 100/100\n",
      "102/102 [==============================] - 0s 157us/step - loss: 0.0093 - mae: 0.0726 - val_loss: 0.6983 - val_mae: 0.6994\n"
     ]
    },
    {
     "data": {
      "text/plain": [
       "<keras.callbacks.callbacks.History at 0x3c0019da88>"
      ]
     },
     "execution_count": 129,
     "metadata": {},
     "output_type": "execute_result"
    }
   ],
   "source": [
    "model.fit(x_train, y_train, epochs=100, validation_data=(x_val,y_val))"
   ]
  },
  {
   "cell_type": "code",
   "execution_count": 130,
   "metadata": {},
   "outputs": [
    {
     "data": {
      "text/plain": [
       "(62, 200)"
      ]
     },
     "execution_count": 130,
     "metadata": {},
     "output_type": "execute_result"
    }
   ],
   "source": [
    "x_test.shape"
   ]
  },
  {
   "cell_type": "code",
   "execution_count": 131,
   "metadata": {},
   "outputs": [],
   "source": [
    "x = model.predict(x_test)"
   ]
  },
  {
   "cell_type": "code",
   "execution_count": 144,
   "metadata": {},
   "outputs": [],
   "source": [
    "z=x*std_l+mean_l"
   ]
  },
  {
   "cell_type": "code",
   "execution_count": 155,
   "metadata": {},
   "outputs": [
    {
     "data": {
      "text/plain": [
       "array([35481.688], dtype=float32)"
      ]
     },
     "execution_count": 155,
     "metadata": {},
     "output_type": "execute_result"
    }
   ],
   "source": [
    "z[-1]"
   ]
  },
  {
   "cell_type": "code",
   "execution_count": 142,
   "metadata": {},
   "outputs": [],
   "source": [
    "y=y_test*std_l+mean_l"
   ]
  },
  {
   "cell_type": "code",
   "execution_count": 146,
   "metadata": {},
   "outputs": [
    {
     "data": {
      "text/plain": [
       "0      26295.004902\n",
       "1      29300.004902\n",
       "9      30659.171902\n",
       "11     29725.004902\n",
       "20     19375.004902\n",
       "           ...     \n",
       "192    26645.004902\n",
       "197    29315.004902\n",
       "201    31845.004902\n",
       "202    34285.004902\n",
       "203    35270.004902\n",
       "Name: price, Length: 62, dtype: float64"
      ]
     },
     "execution_count": 146,
     "metadata": {},
     "output_type": "execute_result"
    }
   ],
   "source": [
    "y"
   ]
  },
  {
   "cell_type": "code",
   "execution_count": 209,
   "metadata": {},
   "outputs": [],
   "source": [
    "# model.predict(x_test[5].reshape(1,x_test.shape[1]))"
   ]
  },
  {
   "cell_type": "code",
   "execution_count": 210,
   "metadata": {},
   "outputs": [],
   "source": [
    "# model.predict(np.array(x_test.iloc[5,:]).reshape(1,test.shape[1]))"
   ]
  },
  {
   "cell_type": "code",
   "execution_count": null,
   "metadata": {},
   "outputs": [],
   "source": []
  }
 ],
 "metadata": {
  "kernelspec": {
   "display_name": "Python 3.7.6 64-bit (conda)",
   "language": "python",
   "name": "python37664bitconda6b92899776a343de98f1606e3918c2ba"
  },
  "language_info": {
   "codemirror_mode": {
    "name": "ipython",
    "version": 3
   },
   "file_extension": ".py",
   "mimetype": "text/x-python",
   "name": "python",
   "nbconvert_exporter": "python",
   "pygments_lexer": "ipython3",
   "version": "3.7.6"
  }
 },
 "nbformat": 4,
 "nbformat_minor": 4
}
